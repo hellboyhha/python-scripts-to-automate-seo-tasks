{
 "cells": [
  {
   "cell_type": "code",
   "execution_count": 3,
   "metadata": {},
   "outputs": [
    {
     "name": "stdout",
     "output_type": "stream",
     "text": [
      "Error fetching url: https://blahblah.com - HTTPSConnectionPool(host='blahblah.com', port=443): Max retries exceeded with url: / (Caused by SSLError(SSLCertVerificationError(1, '[SSL: CERTIFICATE_VERIFY_FAILED] certificate verify failed: self-signed certificate (_ssl.c:1000)')))\n"
     ]
    }
   ],
   "source": [
    "# get meta title from multiple urls\n",
    "\n",
    "import requests\n",
    "from bs4 import BeautifulSoup\n",
    "\n",
    "def extract_meta_title(url):\n",
    "  \"\"\"Extracts the SEO meta title from a given URL.\n",
    "\n",
    "  Args:\n",
    "      url: The URL of the webpage to extract the title from.\n",
    "\n",
    "  Returns:\n",
    "      A string containing the meta title, or an error message if not found.\n",
    "  \"\"\"\n",
    "  try:\n",
    "    response = requests.get(url)\n",
    "    if response.status_code == 404:\n",
    "      return f\"Error: {url} - 404 Not Found\"\n",
    "    soup = BeautifulSoup(response.content, 'html.parser')\n",
    "    title_tag = soup.find('title')\n",
    "    if title_tag:\n",
    "      return title_tag.text.strip()\n",
    "    else:\n",
    "      return None\n",
    "  except requests.exceptions.RequestException as e:\n",
    "    return f\"Error fetching url: {url} - {e}\"\n",
    "\n",
    "def main():\n",
    "  # Define URLs as a multi-line string\n",
    "  urls = \"\"\"\n",
    "https://www.example.com/\n",
    "https://www.example.com/category/news/\n",
    "https://www.example.com/category/seo/\n",
    "\"\"\"\n",
    "\n",
    "  # Split the string into individual URLs and remove leading/trailing whitespaces\n",
    "  urls = [url.strip() for url in urls.splitlines() if url.strip()]\n",
    "\n",
    "  for url in urls:\n",
    "    title = extract_meta_title(url)\n",
    "    if title:\n",
    "      print(title)\n",
    "    else:\n",
    "      print(title)  # Print the error message returned by extract_meta_title\n",
    "\n",
    "if __name__ == '__main__':\n",
    "  main()"
   ]
  }
 ],
 "metadata": {
  "kernelspec": {
   "display_name": "Python 3",
   "language": "python",
   "name": "python3"
  },
  "language_info": {
   "codemirror_mode": {
    "name": "ipython",
    "version": 3
   },
   "file_extension": ".py",
   "mimetype": "text/x-python",
   "name": "python",
   "nbconvert_exporter": "python",
   "pygments_lexer": "ipython3",
   "version": "3.12.4"
  }
 },
 "nbformat": 4,
 "nbformat_minor": 2
}
