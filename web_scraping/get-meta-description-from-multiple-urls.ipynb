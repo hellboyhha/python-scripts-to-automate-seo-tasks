{
 "cells": [
  {
   "cell_type": "code",
   "execution_count": 1,
   "metadata": {},
   "outputs": [
    {
     "name": "stdout",
     "output_type": "stream",
     "text": [
      "Search Engine Journal is dedicated to producing the latest search news, the best guides and how-tos for the SEO and marketer community.\n",
      "Breaking news, updates, trends, and the latest info you need to know about SEO, Google and other search engines, PPC marketing, and social media networks.\n",
      "Your source for all things search engine optimization (SEO), including breaking news, algorithm updates, guides, strategies, tactics, tips, trends, tools, and more!\n"
     ]
    }
   ],
   "source": [
    "# get meta description from multiple urls\n",
    "\n",
    "import requests\n",
    "from bs4 import BeautifulSoup\n",
    "\n",
    "def extract_meta_description(url):\n",
    "  \"\"\"Attempts to extract the SEO meta description from a given URL.\n",
    "\n",
    "  Args:\n",
    "      url: The URL of the webpage to extract the description from.\n",
    "\n",
    "  Returns:\n",
    "      A string containing the meta description, or None if not found.\n",
    "  \"\"\"\n",
    "  try:\n",
    "    response = requests.get(url)\n",
    "    soup = BeautifulSoup(response.content, 'html.parser')\n",
    "    description_tag = soup.find('meta', attrs={'name': 'description'})\n",
    "    if description_tag and 'content' in description_tag.attrs:\n",
    "      return description_tag['content'].strip()\n",
    "    else:\n",
    "      return None\n",
    "  except requests.exceptions.RequestException as e:\n",
    "    return f\"Error fetching url: {url} - {e}\"\n",
    "\n",
    "def main():\n",
    "  # Replace with a list of URLs you want to extract descriptions from\n",
    "  urls = \"\"\"\n",
    "https://www.example.com/\n",
    "https://www.example.com/category/news/\n",
    "https://www.example.com/category/seo/\n",
    "\"\"\"\n",
    "\n",
    "  # Split the string into individual URLs and remove leading/trailing whitespaces\n",
    "  urls = [url.strip() for url in urls.splitlines() if url.strip()]\n",
    "\n",
    "  for url in urls:\n",
    "    description = extract_meta_description(url)\n",
    "    if description:\n",
    "      print(description)\n",
    "    else:\n",
    "      print(f\"Description not found for: {url}\")\n",
    "\n",
    "if __name__ == '__main__':\n",
    "  main()"
   ]
  }
 ],
 "metadata": {
  "kernelspec": {
   "display_name": "Python 3",
   "language": "python",
   "name": "python3"
  },
  "language_info": {
   "codemirror_mode": {
    "name": "ipython",
    "version": 3
   },
   "file_extension": ".py",
   "mimetype": "text/x-python",
   "name": "python",
   "nbconvert_exporter": "python",
   "pygments_lexer": "ipython3",
   "version": "3.12.4"
  }
 },
 "nbformat": 4,
 "nbformat_minor": 2
}
