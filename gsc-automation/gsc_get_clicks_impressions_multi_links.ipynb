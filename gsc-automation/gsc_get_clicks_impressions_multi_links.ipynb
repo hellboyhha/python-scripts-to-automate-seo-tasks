{
 "cells": [
  {
   "cell_type": "code",
   "execution_count": null,
   "metadata": {},
   "outputs": [],
   "source": [
    "from oauth2client.client import OAuth2WebServerFlow\n",
    "from googleapiclient.discovery import build\n",
    "import httplib2\n",
    "\n",
    "# Use Your Google Cloud Project Client ID & Client Secrets\n",
    "CLIENT_ID = \"<your-client-id>\"\n",
    "CLIENT_SECRET = \"<your-client-secret>\"\n",
    "\n",
    "# Define Oath scopes with read only access\n",
    "OAUTH_SCOPE = \"https://www.googleapis.com/auth/webmasters.readonly\"\n",
    "\n",
    "# Redirect URI to open Authorization Code Window in Browser\n",
    "REDIRECT_URI = 'urn:ietf:wg:oauth:2.0:oob'\n",
    "\n",
    "# Build URL that generates Authorization Code\n",
    "flow = OAuth2WebServerFlow(CLIENT_ID, CLIENT_SECRET, OAUTH_SCOPE, REDIRECT_URI)\n",
    "authorize_url = flow.step1_get_authorize_url()\n",
    "\n",
    "#Print Authorization URL\n",
    "print(\"Go to the following link in your browser: \" + authorize_url)\n",
    "\n",
    "auth_code = input(\"Enter your Authorization Code here:\")\n",
    "\n",
    "#get credentials to build GSC API service\n",
    "credentials = flow.step2_exchange(auth_code)\n",
    "print(\"The credentials are genereted successfully\")\n",
    "\n",
    "# Create an httplib2.Http object and authorize it with our credentials\n",
    "http = httplib2.Http()\n",
    "\n",
    "#authorize credentials\n",
    "creds = credentials.authorize(http)\n",
    "\n",
    "#building a service to access various features of GSC API\n",
    "webmasters_service = build('webmasters', 'v3', http=creds)"
   ]
  },
  {
   "cell_type": "code",
   "execution_count": null,
   "metadata": {},
   "outputs": [],
   "source": [
    "# Get a list of sites in your Google Search Console Account\n",
    "site_list = webmasters_service.sites().list().execute()\n",
    "\n",
    "print(site_list)"
   ]
  },
  {
   "cell_type": "code",
   "execution_count": null,
   "metadata": {},
   "outputs": [],
   "source": [
    "# Configure the dates and multiple urls of your website that you want to check.\n",
    "\n",
    "site_url = 'https://www.example.com/'\n",
    "\n",
    "# URLs provided as a multi-line string\n",
    "url_list = \"\"\"\n",
    "https://www.example.com/home\n",
    "https://www.example.com/pages/1\n",
    "https://www.example.com/pages/2\n",
    "\"\"\"\n",
    "\n",
    "# Start and end dates for the data\n",
    "start_date = '<YYYY-MM-DD>'\n",
    "end_date = '<YYYY-MM-DD>'"
   ]
  },
  {
   "cell_type": "code",
   "execution_count": null,
   "metadata": {},
   "outputs": [],
   "source": [
    "# Get Clicks & Impressions for multiple links\n",
    "\n",
    "import csv\n",
    "\n",
    "# Convert the multi-line string to a list of URLs\n",
    "urls = [url.strip() for url in url_list.strip().split('\\n') if url.strip()]\n",
    "\n",
    "# Open a CSV file to write the results\n",
    "with open('search_console_data.csv', 'w', newline='') as file:\n",
    "    writer = csv.writer(file)\n",
    "    # Write the header row\n",
    "    writer.writerow(['Page URL', 'Clicks', 'Impressions'])\n",
    "\n",
    "    # Loop through the list of URLs and fetch data\n",
    "    for url in urls:\n",
    "        request = {\n",
    "            'startDate': start_date,\n",
    "            'endDate': end_date,\n",
    "            'dimensions': ['page'],\n",
    "            'dimensionFilterGroups': [{\n",
    "                'filters': [{\n",
    "                    'dimension': 'page',\n",
    "                    'operator': 'equals',\n",
    "                    'expression': url\n",
    "                }]\n",
    "            }],\n",
    "            'rowLimit': 10000,  # Adjust based on how many results you expect\n",
    "            'metrics': [{'expression': 'clicks'}, {'expression': 'impressions'}]\n",
    "        }\n",
    "\n",
    "        response = webmasters_service.searchanalytics().query(siteUrl=site_url, body=request).execute()\n",
    "\n",
    "        # Write data to the CSV file\n",
    "        if 'rows' in response:\n",
    "            for row in response['rows']:\n",
    "                writer.writerow([row['keys'][0], row['clicks'], row['impressions']])\n",
    "        else:\n",
    "            writer.writerow([url, 0, 0])  # Write zeros if no data is available"
   ]
  }
 ],
 "metadata": {
  "kernelspec": {
   "display_name": "Python 3",
   "language": "python",
   "name": "python3"
  },
  "language_info": {
   "codemirror_mode": {
    "name": "ipython",
    "version": 3
   },
   "file_extension": ".py",
   "mimetype": "text/x-python",
   "name": "python",
   "nbconvert_exporter": "python",
   "pygments_lexer": "ipython3",
   "version": "3.12.4"
  }
 },
 "nbformat": 4,
 "nbformat_minor": 2
}
